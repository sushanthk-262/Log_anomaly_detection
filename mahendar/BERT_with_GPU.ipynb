{
  "cells": [
    {
      "cell_type": "code",
      "execution_count": 53,
      "metadata": {
        "id": "BeU98hLl0Cij"
      },
      "outputs": [],
      "source": [
        "#!pip install accelerate -U"
      ]
    },
    {
      "cell_type": "markdown",
      "metadata": {
        "id": "GDIn-PPm6Tee"
      },
      "source": [
        "## Import Libraries ##"
      ]
    },
    {
      "cell_type": "code",
      "execution_count": 54,
      "metadata": {
        "id": "ChwhV-ro0Ejr"
      },
      "outputs": [],
      "source": [
        "import pandas as pd\n",
        "from sklearn.model_selection import train_test_split\n",
        "from transformers import BertTokenizer, BertForSequenceClassification, Trainer, TrainingArguments\n",
        "import torch\n",
        "from torch.utils.data import Dataset\n",
        "from sklearn.metrics import confusion_matrix, accuracy_score, precision_score, recall_score, f1_score\n",
        "import torch.nn.functional as F"
      ]
    },
    {
      "cell_type": "markdown",
      "metadata": {
        "id": "pNzNLVqY6bOS"
      },
      "source": [
        "## Load Data ##"
      ]
    },
    {
      "cell_type": "code",
      "execution_count": 55,
      "metadata": {
        "colab": {
          "base_uri": "https://localhost:8080/",
          "height": 424
        },
        "id": "vRU7iKs-0GV0",
        "outputId": "2eafa79e-a59e-4383-d15d-8c17466ef9e7"
      },
      "outputs": [
        {
          "data": {
            "text/html": [
              "\n",
              "  <div id=\"df-34887981-d500-40b5-9362-d3f4b9c486ee\" class=\"colab-df-container\">\n",
              "    <div>\n",
              "<style scoped>\n",
              "    .dataframe tbody tr th:only-of-type {\n",
              "        vertical-align: middle;\n",
              "    }\n",
              "\n",
              "    .dataframe tbody tr th {\n",
              "        vertical-align: top;\n",
              "    }\n",
              "\n",
              "    .dataframe thead th {\n",
              "        text-align: right;\n",
              "    }\n",
              "</style>\n",
              "<table border=\"1\" class=\"dataframe\">\n",
              "  <thead>\n",
              "    <tr style=\"text-align: right;\">\n",
              "      <th></th>\n",
              "      <th>text</th>\n",
              "      <th>label</th>\n",
              "    </tr>\n",
              "  </thead>\n",
              "  <tbody>\n",
              "    <tr>\n",
              "      <th>1</th>\n",
              "      <td>{'E26', 'E11', 'E9', 'E22', 'E5'}</td>\n",
              "      <td>Normal</td>\n",
              "    </tr>\n",
              "    <tr>\n",
              "      <th>2</th>\n",
              "      <td>{'E2', 'E26', 'E11', 'E9', 'E22', 'E5'}</td>\n",
              "      <td>Normal</td>\n",
              "    </tr>\n",
              "    <tr>\n",
              "      <th>3</th>\n",
              "      <td>{'E26', 'E11', 'E9', 'E22', 'E5'}</td>\n",
              "      <td>Normal</td>\n",
              "    </tr>\n",
              "    <tr>\n",
              "      <th>4</th>\n",
              "      <td>{'E2', 'E26', 'E11', 'E9', 'E22', 'E5'}</td>\n",
              "      <td>Normal</td>\n",
              "    </tr>\n",
              "    <tr>\n",
              "      <th>5</th>\n",
              "      <td>{'E26', 'E11', 'E9', 'E22', 'E5'}</td>\n",
              "      <td>Normal</td>\n",
              "    </tr>\n",
              "    <tr>\n",
              "      <th>...</th>\n",
              "      <td>...</td>\n",
              "      <td>...</td>\n",
              "    </tr>\n",
              "    <tr>\n",
              "      <th>4037</th>\n",
              "      <td>{'E26', 'E11', 'E9', 'E22', 'E5'}</td>\n",
              "      <td>Anomaly</td>\n",
              "    </tr>\n",
              "    <tr>\n",
              "      <th>4038</th>\n",
              "      <td>{'E2', 'E26', 'E11', 'E9', 'E22', 'E5'}</td>\n",
              "      <td>Normal</td>\n",
              "    </tr>\n",
              "    <tr>\n",
              "      <th>4039</th>\n",
              "      <td>{'E26', 'E11', 'E9', 'E22', 'E5'}</td>\n",
              "      <td>Normal</td>\n",
              "    </tr>\n",
              "    <tr>\n",
              "      <th>4040</th>\n",
              "      <td>{'E26', 'E11', 'E9', 'E22', 'E5'}</td>\n",
              "      <td>Normal</td>\n",
              "    </tr>\n",
              "    <tr>\n",
              "      <th>4041</th>\n",
              "      <td>{'E26', 'E11', 'E9', 'E22', 'E5'}</td>\n",
              "      <td>Normal</td>\n",
              "    </tr>\n",
              "  </tbody>\n",
              "</table>\n",
              "<p>4041 rows × 2 columns</p>\n",
              "</div>\n",
              "    <div class=\"colab-df-buttons\">\n",
              "\n",
              "  <div class=\"colab-df-container\">\n",
              "    <button class=\"colab-df-convert\" onclick=\"convertToInteractive('df-34887981-d500-40b5-9362-d3f4b9c486ee')\"\n",
              "            title=\"Convert this dataframe to an interactive table.\"\n",
              "            style=\"display:none;\">\n",
              "\n",
              "  <svg xmlns=\"http://www.w3.org/2000/svg\" height=\"24px\" viewBox=\"0 -960 960 960\">\n",
              "    <path d=\"M120-120v-720h720v720H120Zm60-500h600v-160H180v160Zm220 220h160v-160H400v160Zm0 220h160v-160H400v160ZM180-400h160v-160H180v160Zm440 0h160v-160H620v160ZM180-180h160v-160H180v160Zm440 0h160v-160H620v160Z\"/>\n",
              "  </svg>\n",
              "    </button>\n",
              "\n",
              "  <style>\n",
              "    .colab-df-container {\n",
              "      display:flex;\n",
              "      gap: 12px;\n",
              "    }\n",
              "\n",
              "    .colab-df-convert {\n",
              "      background-color: #E8F0FE;\n",
              "      border: none;\n",
              "      border-radius: 50%;\n",
              "      cursor: pointer;\n",
              "      display: none;\n",
              "      fill: #1967D2;\n",
              "      height: 32px;\n",
              "      padding: 0 0 0 0;\n",
              "      width: 32px;\n",
              "    }\n",
              "\n",
              "    .colab-df-convert:hover {\n",
              "      background-color: #E2EBFA;\n",
              "      box-shadow: 0px 1px 2px rgba(60, 64, 67, 0.3), 0px 1px 3px 1px rgba(60, 64, 67, 0.15);\n",
              "      fill: #174EA6;\n",
              "    }\n",
              "\n",
              "    .colab-df-buttons div {\n",
              "      margin-bottom: 4px;\n",
              "    }\n",
              "\n",
              "    [theme=dark] .colab-df-convert {\n",
              "      background-color: #3B4455;\n",
              "      fill: #D2E3FC;\n",
              "    }\n",
              "\n",
              "    [theme=dark] .colab-df-convert:hover {\n",
              "      background-color: #434B5C;\n",
              "      box-shadow: 0px 1px 3px 1px rgba(0, 0, 0, 0.15);\n",
              "      filter: drop-shadow(0px 1px 2px rgba(0, 0, 0, 0.3));\n",
              "      fill: #FFFFFF;\n",
              "    }\n",
              "  </style>\n",
              "\n",
              "    <script>\n",
              "      const buttonEl =\n",
              "        document.querySelector('#df-34887981-d500-40b5-9362-d3f4b9c486ee button.colab-df-convert');\n",
              "      buttonEl.style.display =\n",
              "        google.colab.kernel.accessAllowed ? 'block' : 'none';\n",
              "\n",
              "      async function convertToInteractive(key) {\n",
              "        const element = document.querySelector('#df-34887981-d500-40b5-9362-d3f4b9c486ee');\n",
              "        const dataTable =\n",
              "          await google.colab.kernel.invokeFunction('convertToInteractive',\n",
              "                                                    [key], {});\n",
              "        if (!dataTable) return;\n",
              "\n",
              "        const docLinkHtml = 'Like what you see? Visit the ' +\n",
              "          '<a target=\"_blank\" href=https://colab.research.google.com/notebooks/data_table.ipynb>data table notebook</a>'\n",
              "          + ' to learn more about interactive tables.';\n",
              "        element.innerHTML = '';\n",
              "        dataTable['output_type'] = 'display_data';\n",
              "        await google.colab.output.renderOutput(dataTable, element);\n",
              "        const docLink = document.createElement('div');\n",
              "        docLink.innerHTML = docLinkHtml;\n",
              "        element.appendChild(docLink);\n",
              "      }\n",
              "    </script>\n",
              "  </div>\n",
              "\n",
              "\n",
              "<div id=\"df-76215c16-b6c3-43fa-b0d1-3075314874b4\">\n",
              "  <button class=\"colab-df-quickchart\" onclick=\"quickchart('df-76215c16-b6c3-43fa-b0d1-3075314874b4')\"\n",
              "            title=\"Suggest charts\"\n",
              "            style=\"display:none;\">\n",
              "\n",
              "<svg xmlns=\"http://www.w3.org/2000/svg\" height=\"24px\"viewBox=\"0 0 24 24\"\n",
              "     width=\"24px\">\n",
              "    <g>\n",
              "        <path d=\"M19 3H5c-1.1 0-2 .9-2 2v14c0 1.1.9 2 2 2h14c1.1 0 2-.9 2-2V5c0-1.1-.9-2-2-2zM9 17H7v-7h2v7zm4 0h-2V7h2v10zm4 0h-2v-4h2v4z\"/>\n",
              "    </g>\n",
              "</svg>\n",
              "  </button>\n",
              "\n",
              "<style>\n",
              "  .colab-df-quickchart {\n",
              "      --bg-color: #E8F0FE;\n",
              "      --fill-color: #1967D2;\n",
              "      --hover-bg-color: #E2EBFA;\n",
              "      --hover-fill-color: #174EA6;\n",
              "      --disabled-fill-color: #AAA;\n",
              "      --disabled-bg-color: #DDD;\n",
              "  }\n",
              "\n",
              "  [theme=dark] .colab-df-quickchart {\n",
              "      --bg-color: #3B4455;\n",
              "      --fill-color: #D2E3FC;\n",
              "      --hover-bg-color: #434B5C;\n",
              "      --hover-fill-color: #FFFFFF;\n",
              "      --disabled-bg-color: #3B4455;\n",
              "      --disabled-fill-color: #666;\n",
              "  }\n",
              "\n",
              "  .colab-df-quickchart {\n",
              "    background-color: var(--bg-color);\n",
              "    border: none;\n",
              "    border-radius: 50%;\n",
              "    cursor: pointer;\n",
              "    display: none;\n",
              "    fill: var(--fill-color);\n",
              "    height: 32px;\n",
              "    padding: 0;\n",
              "    width: 32px;\n",
              "  }\n",
              "\n",
              "  .colab-df-quickchart:hover {\n",
              "    background-color: var(--hover-bg-color);\n",
              "    box-shadow: 0 1px 2px rgba(60, 64, 67, 0.3), 0 1px 3px 1px rgba(60, 64, 67, 0.15);\n",
              "    fill: var(--button-hover-fill-color);\n",
              "  }\n",
              "\n",
              "  .colab-df-quickchart-complete:disabled,\n",
              "  .colab-df-quickchart-complete:disabled:hover {\n",
              "    background-color: var(--disabled-bg-color);\n",
              "    fill: var(--disabled-fill-color);\n",
              "    box-shadow: none;\n",
              "  }\n",
              "\n",
              "  .colab-df-spinner {\n",
              "    border: 2px solid var(--fill-color);\n",
              "    border-color: transparent;\n",
              "    border-bottom-color: var(--fill-color);\n",
              "    animation:\n",
              "      spin 1s steps(1) infinite;\n",
              "  }\n",
              "\n",
              "  @keyframes spin {\n",
              "    0% {\n",
              "      border-color: transparent;\n",
              "      border-bottom-color: var(--fill-color);\n",
              "      border-left-color: var(--fill-color);\n",
              "    }\n",
              "    20% {\n",
              "      border-color: transparent;\n",
              "      border-left-color: var(--fill-color);\n",
              "      border-top-color: var(--fill-color);\n",
              "    }\n",
              "    30% {\n",
              "      border-color: transparent;\n",
              "      border-left-color: var(--fill-color);\n",
              "      border-top-color: var(--fill-color);\n",
              "      border-right-color: var(--fill-color);\n",
              "    }\n",
              "    40% {\n",
              "      border-color: transparent;\n",
              "      border-right-color: var(--fill-color);\n",
              "      border-top-color: var(--fill-color);\n",
              "    }\n",
              "    60% {\n",
              "      border-color: transparent;\n",
              "      border-right-color: var(--fill-color);\n",
              "    }\n",
              "    80% {\n",
              "      border-color: transparent;\n",
              "      border-right-color: var(--fill-color);\n",
              "      border-bottom-color: var(--fill-color);\n",
              "    }\n",
              "    90% {\n",
              "      border-color: transparent;\n",
              "      border-bottom-color: var(--fill-color);\n",
              "    }\n",
              "  }\n",
              "</style>\n",
              "\n",
              "  <script>\n",
              "    async function quickchart(key) {\n",
              "      const quickchartButtonEl =\n",
              "        document.querySelector('#' + key + ' button');\n",
              "      quickchartButtonEl.disabled = true;  // To prevent multiple clicks.\n",
              "      quickchartButtonEl.classList.add('colab-df-spinner');\n",
              "      try {\n",
              "        const charts = await google.colab.kernel.invokeFunction(\n",
              "            'suggestCharts', [key], {});\n",
              "      } catch (error) {\n",
              "        console.error('Error during call to suggestCharts:', error);\n",
              "      }\n",
              "      quickchartButtonEl.classList.remove('colab-df-spinner');\n",
              "      quickchartButtonEl.classList.add('colab-df-quickchart-complete');\n",
              "    }\n",
              "    (() => {\n",
              "      let quickchartButtonEl =\n",
              "        document.querySelector('#df-76215c16-b6c3-43fa-b0d1-3075314874b4 button');\n",
              "      quickchartButtonEl.style.display =\n",
              "        google.colab.kernel.accessAllowed ? 'block' : 'none';\n",
              "    })();\n",
              "  </script>\n",
              "</div>\n",
              "    </div>\n",
              "  </div>\n"
            ],
            "text/plain": [
              "                                         text    label\n",
              "1           {'E26', 'E11', 'E9', 'E22', 'E5'}   Normal\n",
              "2     {'E2', 'E26', 'E11', 'E9', 'E22', 'E5'}   Normal\n",
              "3           {'E26', 'E11', 'E9', 'E22', 'E5'}   Normal\n",
              "4     {'E2', 'E26', 'E11', 'E9', 'E22', 'E5'}   Normal\n",
              "5           {'E26', 'E11', 'E9', 'E22', 'E5'}   Normal\n",
              "...                                       ...      ...\n",
              "4037        {'E26', 'E11', 'E9', 'E22', 'E5'}  Anomaly\n",
              "4038  {'E2', 'E26', 'E11', 'E9', 'E22', 'E5'}   Normal\n",
              "4039        {'E26', 'E11', 'E9', 'E22', 'E5'}   Normal\n",
              "4040        {'E26', 'E11', 'E9', 'E22', 'E5'}   Normal\n",
              "4041        {'E26', 'E11', 'E9', 'E22', 'E5'}   Normal\n",
              "\n",
              "[4041 rows x 2 columns]"
            ]
          },
          "execution_count": 55,
          "metadata": {},
          "output_type": "execute_result"
        }
      ],
      "source": [
        "# Load the Data\n",
        "df = pd.read_csv('/content/HDFS_sequence.csv', sep=',', quotechar='\"', names=[\"text\", \"label\"])\n",
        "df = df[1:]\n",
        "df"
      ]
    },
    {
      "cell_type": "markdown",
      "metadata": {
        "id": "OvMlORnZ6etb"
      },
      "source": [
        "## Feature Extraction ##"
      ]
    },
    {
      "cell_type": "code",
      "execution_count": 56,
      "metadata": {
        "id": "2Z98CGaH1lgX"
      },
      "outputs": [],
      "source": [
        "# Feature extraction\n",
        "X = list(df['text'])\n",
        "y = list(df['label'])"
      ]
    },
    {
      "cell_type": "code",
      "execution_count": 57,
      "metadata": {
        "id": "nCuwBunI1Fnj"
      },
      "outputs": [],
      "source": [
        "# Get dummies(mapping)\n",
        "y = pd.get_dummies(y, drop_first=True)['Normal']"
      ]
    },
    {
      "cell_type": "code",
      "execution_count": 58,
      "metadata": {
        "id": "p-2Gl1sdApu8"
      },
      "outputs": [],
      "source": [
        "for x in range(len(y)):\n",
        "  if y[x] == 0:\n",
        "    y[x] = 1\n",
        "  else:\n",
        "    y[x] = 0\n"
      ]
    },
    {
      "cell_type": "markdown",
      "metadata": {
        "id": "tWP0LQk66h_L"
      },
      "source": [
        "## Train-test split ##"
      ]
    },
    {
      "cell_type": "code",
      "execution_count": 59,
      "metadata": {
        "id": "tplOj7fE0ILK"
      },
      "outputs": [],
      "source": [
        "X_train,X_test,y_train,y_test = train_test_split(X,y,test_size=0.2,random_state=0)"
      ]
    },
    {
      "cell_type": "markdown",
      "metadata": {
        "id": "cMo1HdjhLt2w"
      },
      "source": [
        "## Access GPU ##"
      ]
    },
    {
      "cell_type": "code",
      "execution_count": 60,
      "metadata": {
        "id": "a5YjTJUrLv-7"
      },
      "outputs": [],
      "source": [
        "device = torch.device(\"cuda\" if torch.cuda.is_available() else \"cpu\")"
      ]
    },
    {
      "cell_type": "markdown",
      "metadata": {
        "id": "mk0zdDhG6qEi"
      },
      "source": [
        "## Load the Model ##"
      ]
    },
    {
      "cell_type": "code",
      "execution_count": 61,
      "metadata": {
        "colab": {
          "base_uri": "https://localhost:8080/"
        },
        "id": "5ocjkW-M0K-1",
        "outputId": "119f617f-fdc4-4e71-8bd0-3bd8e0757896"
      },
      "outputs": [
        {
          "name": "stderr",
          "output_type": "stream",
          "text": [
            "Some weights of BertForSequenceClassification were not initialized from the model checkpoint at bert-base-uncased and are newly initialized: ['classifier.bias', 'classifier.weight']\n",
            "You should probably TRAIN this model on a down-stream task to be able to use it for predictions and inference.\n"
          ]
        }
      ],
      "source": [
        "model_name = \"bert-base-uncased\"\n",
        "tokenizer = BertTokenizer.from_pretrained(model_name)\n",
        "model = BertForSequenceClassification.from_pretrained(model_name).to(device)"
      ]
    },
    {
      "cell_type": "markdown",
      "metadata": {
        "id": "4LdfR-lP6uLt"
      },
      "source": [
        "## Get the Encodings ##"
      ]
    },
    {
      "cell_type": "code",
      "execution_count": 64,
      "metadata": {
        "id": "S4ItWEn40QAR"
      },
      "outputs": [],
      "source": [
        "# Get the Encodings\n",
        "train_encodings = tokenizer(X_train, truncation=True, padding=True, return_tensors=\"pt\")\n",
        "test_encodings = tokenizer(X_test, truncation=True, padding=True, return_tensors=\"pt\")"
      ]
    },
    {
      "cell_type": "markdown",
      "metadata": {
        "id": "1dptZQDGMA2Y"
      },
      "source": [
        "## Move Data to GPU ##"
      ]
    },
    {
      "cell_type": "code",
      "execution_count": 65,
      "metadata": {
        "id": "lHpHi3ZmMDLX"
      },
      "outputs": [],
      "source": [
        "# Move data to GPU\n",
        "train_encodings = {key: value.to(device) for key, value in train_encodings.items()}\n",
        "test_encodings = {key: value.to(device) for key, value in test_encodings.items()}\n",
        "y_train_tensor = torch.tensor(y_train.values, dtype=torch.long).to(device)\n",
        "y_test_tensor = torch.tensor(y_test.values, dtype=torch.long).to(device)\n"
      ]
    },
    {
      "cell_type": "markdown",
      "metadata": {
        "id": "7mx3BRiP6xM9"
      },
      "source": [
        "## Get DataSets ##"
      ]
    },
    {
      "cell_type": "code",
      "execution_count": 66,
      "metadata": {
        "id": "CD3-K_Te0Sd5"
      },
      "outputs": [],
      "source": [
        "# Create datasets\n",
        "class CustomDataset(Dataset):\n",
        "    def __init__(self, inputs, labels):\n",
        "        self.inputs = inputs\n",
        "        self.labels = labels\n",
        "\n",
        "    def __len__(self):\n",
        "        return len(self.labels)\n",
        "\n",
        "    def __getitem__(self, idx):\n",
        "        input_ids = self.inputs['input_ids'][idx]\n",
        "        attention_mask = self.inputs['attention_mask'][idx]\n",
        "        label = self.labels[idx]\n",
        "\n",
        "        return {'input_ids': input_ids, 'attention_mask': attention_mask, 'label': label}\n",
        "\n",
        "# Create an instance of the custom dataset\n",
        "dataset_train = CustomDataset(train_encodings, y_train_tensor)\n",
        "dataset_test = CustomDataset(test_encodings, y_test_tensor)"
      ]
    },
    {
      "cell_type": "markdown",
      "metadata": {
        "id": "5xEq2-8061Px"
      },
      "source": [
        "## Train ##"
      ]
    },
    {
      "cell_type": "code",
      "execution_count": 67,
      "metadata": {
        "id": "5TP9MCNR0U7s"
      },
      "outputs": [],
      "source": [
        "# Training Arguments\n",
        "training_args = TrainingArguments(\n",
        "    output_dir=\"./bert_base_model\",\n",
        "    evaluation_strategy=\"steps\",\n",
        "    eval_steps=100,\n",
        "    per_device_train_batch_size=2,\n",
        "    per_device_eval_batch_size=2,\n",
        "    save_steps=1000,\n",
        "    save_total_limit=2,\n",
        "    num_train_epochs=10,\n",
        "    logging_dir=\"./logs\",\n",
        "    report_to=\"tensorboard\",\n",
        ")"
      ]
    },
    {
      "cell_type": "code",
      "execution_count": null,
      "metadata": {
        "colab": {
          "base_uri": "https://localhost:8080/",
          "height": 134
        },
        "id": "eEmAMxLP0XJh",
        "outputId": "b5fcee73-1a80-436d-fc09-8d13f1df0631"
      },
      "outputs": [],
      "source": [
        "# Trainer\n",
        "trainer = Trainer(\n",
        "    model=model,                         # the instantiated Transformers model to be trained\n",
        "    args=training_args,                  # training arguments, defined above\n",
        "    train_dataset=dataset_train,         # training dataset\n",
        "    eval_dataset=dataset_test             # evaluation dataset\n",
        ")\n",
        "\n",
        "trainer.train()"
      ]
    },
    {
      "cell_type": "markdown",
      "metadata": {
        "id": "wWW5Sf7X7CDj"
      },
      "source": [
        "## Save the Model ##"
      ]
    },
    {
      "cell_type": "code",
      "execution_count": null,
      "metadata": {
        "id": "pJAIGIsW7EbL"
      },
      "outputs": [],
      "source": [
        "model.save_pretrained(\"./fine_tuned_bert_model_for_HDFS\")\n",
        "tokenizer.save_pretrained(\"./fine_tuned_bert_model_for_HDFS\")"
      ]
    },
    {
      "cell_type": "markdown",
      "metadata": {
        "id": "wOkoSoZD7X4K"
      },
      "source": [
        "## Prediction ##"
      ]
    },
    {
      "cell_type": "code",
      "execution_count": null,
      "metadata": {
        "id": "TOOODIm7Mbkg"
      },
      "outputs": [],
      "source": [
        "model_path = \"./fine_tuned_bert_model_for_HDFS\"\n",
        "model_saved = BertForSequenceClassification.from_pretrained(model_path).to(device)\n",
        "tokenizer_saved = BertTokenizer.from_pretrained(model_path)"
      ]
    },
    {
      "cell_type": "code",
      "execution_count": null,
      "metadata": {
        "id": "d_M_lxdL7iN6"
      },
      "outputs": [],
      "source": [
        "test_encodings = tokenizer_saved(X_test, truncation=True, padding=True, return_tensors=\"pt\").to(device)\n",
        "predictions = model_saved(**test_encodings)\n",
        "logits = predictions.logits\n",
        "\n",
        "# Apply softmax to get probabilities\n",
        "probabilities = F.softmax(logits, dim=1)\n",
        "\n",
        "# Get the predicted label (0 or 1)\n",
        "predicted_labels = torch.argmax(probabilities, dim=1)\n",
        "predicted_labels = predicted_labels.tolist()\n",
        "# Print the predicted labels\n",
        "print(predicted_labels)"
      ]
    },
    {
      "cell_type": "markdown",
      "metadata": {
        "id": "3zAy2CFP8CT-"
      },
      "source": [
        "## Evaluation ##"
      ]
    },
    {
      "cell_type": "code",
      "execution_count": null,
      "metadata": {
        "id": "XcOAuFFs8E9G"
      },
      "outputs": [],
      "source": [
        "y_test_labels = y_test.tolist()\n",
        "# Create confusion matrix\n",
        "cm = confusion_matrix(y_test_labels, predicted_labels)\n",
        "\n",
        "# Calculate metrics\n",
        "accuracy = accuracy_score(y_test_labels, predicted_labels)\n",
        "precision = precision_score(y_test_labels, predicted_labels)\n",
        "recall = recall_score(y_test_labels, predicted_labels)\n",
        "f1 = f1_score(y_test_labels, predicted_labels)\n",
        "\n",
        "print(\"Confusion Matrix:\")\n",
        "print(cm)\n",
        "print(\"\\nAccuracy:\", accuracy)\n",
        "print(\"Precision:\", precision)\n",
        "print(\"Recall:\", recall)\n",
        "print(\"F1 Score:\", f1)"
      ]
    }
  ],
  "metadata": {
    "colab": {
      "provenance": []
    },
    "kernelspec": {
      "display_name": "Python 3",
      "name": "python3"
    },
    "language_info": {
      "name": "python"
    }
  },
  "nbformat": 4,
  "nbformat_minor": 0
}
